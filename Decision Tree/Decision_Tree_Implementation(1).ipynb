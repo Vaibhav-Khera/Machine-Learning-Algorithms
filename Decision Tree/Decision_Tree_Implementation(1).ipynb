{
 "cells": [
  {
   "cell_type": "markdown",
   "metadata": {},
   "source": [
    "## Importing the required Libraries"
   ]
  },
  {
   "cell_type": "code",
   "execution_count": 1,
   "metadata": {},
   "outputs": [],
   "source": [
    "import pandas as pd\n",
    "import numpy as np\n",
    "import math as ma\n",
    "from sklearn import datasets"
   ]
  },
  {
   "cell_type": "markdown",
   "metadata": {},
   "source": [
    "## Loading iris dataset into DataFrame"
   ]
  },
  {
   "cell_type": "code",
   "execution_count": 2,
   "metadata": {},
   "outputs": [
    {
     "name": "stdout",
     "output_type": "stream",
     "text": [
      "      sl   sw   pl   pw\n",
      "0    5.1  3.5  1.4  0.2\n",
      "1    4.9  3.0  1.4  0.2\n",
      "2    4.7  3.2  1.3  0.2\n",
      "3    4.6  3.1  1.5  0.2\n",
      "4    5.0  3.6  1.4  0.2\n",
      "..   ...  ...  ...  ...\n",
      "145  6.7  3.0  5.2  2.3\n",
      "146  6.3  2.5  5.0  1.9\n",
      "147  6.5  3.0  5.2  2.0\n",
      "148  6.2  3.4  5.4  2.3\n",
      "149  5.9  3.0  5.1  1.8\n",
      "\n",
      "[150 rows x 4 columns]\n"
     ]
    }
   ],
   "source": [
    "iris=datasets.load_iris()   \n",
    "#print(iris)\n",
    "Data = pd.DataFrame(iris.data)\n",
    "Data.columns = ['sl','sw','pl','pw']\n",
    "print(Data)\n",
    "\n"
   ]
  },
  {
   "cell_type": "code",
   "execution_count": 3,
   "metadata": {},
   "outputs": [
    {
     "name": "stdout",
     "output_type": "stream",
     "text": [
      "     0\n",
      "0    0\n",
      "1    0\n",
      "2    0\n",
      "3    0\n",
      "4    0\n",
      "..  ..\n",
      "145  2\n",
      "146  2\n",
      "147  2\n",
      "148  2\n",
      "149  2\n",
      "\n",
      "[150 rows x 1 columns]\n"
     ]
    }
   ],
   "source": [
    "y=pd.DataFrame(iris.target)\n",
    "print(y)"
   ]
  },
  {
   "cell_type": "code",
   "execution_count": 4,
   "metadata": {},
   "outputs": [],
   "source": [
    "feature_list = ['sl','sw','pl','pw']"
   ]
  },
  {
   "cell_type": "code",
   "execution_count": 5,
   "metadata": {},
   "outputs": [],
   "source": [
    "def count_Setosa(result):            \n",
    "    #Counts number of setosa\n",
    "    result=np.array(result[:])\n",
    "    return (result==0).sum()    #returns the number of items whose value is 0(where 0 is label for setosa flower)\n",
    "\n",
    "def count_Versicolor(result):       \n",
    "    #Counts number of versicolor\n",
    "    result=np.array(result[:])\n",
    "    return (result==1).sum()    #returns the number of items whose value is 1(where 1 is label for versicolor flower)\n"
   ]
  },
  {
   "cell_type": "markdown",
   "metadata": {},
   "source": [
    "# Entropy Function"
   ]
  },
  {
   "cell_type": "code",
   "execution_count": 6,
   "metadata": {},
   "outputs": [],
   "source": [
    "Level = 0"
   ]
  },
  {
   "cell_type": "code",
   "execution_count": 7,
   "metadata": {},
   "outputs": [],
   "source": [
    "def entropy(val):      #funtion to calculate entropy of given node\n",
    "    entropy_=0\n",
    "    if sum(val)==0:    #to avoid zerodivision error\n",
    "        return 0\n",
    "    for i in range(3):\n",
    "        if val[i]/sum(val)==0:        #to avoid log(0) which is undefined\n",
    "            continue\n",
    "        entropy_+=((-1)*val[i]/sum(val))*ma.log(val[i]/sum(val),2)       \n",
    "    return entropy_"
   ]
  },
  {
   "cell_type": "markdown",
   "metadata": {},
   "source": [
    "# Gain ratio Function"
   ]
  },
  {
   "cell_type": "code",
   "execution_count": 8,
   "metadata": {},
   "outputs": [],
   "source": [
    "def Gain_ratio(val,val1,val2):   # gain ratio funtion \n",
    "       \n",
    "    info=entropy(val)       #info is entropy of root node\n",
    "    info1=entropy(val1)     #info1 is entropy of first child node\n",
    "    info2=entropy(val2)     # info1 is entropy of second child node\n",
    "        \n",
    "   \n",
    "    a=(sum(val1)/(sum(val1)+sum(val2)))*info1     #info_gain=info-(a+b)  so we need to calculate a and b\n",
    "                                                  # i.e weighted sum of individual nodes\n",
    "    b=(sum(val2)/(sum(val1)+sum(val2)))*info2   \n",
    "    \n",
    "    info_gain=info-(a+b)\n",
    "    \n",
    "    if sum(val1)/(sum(val1)+sum(val2))==0:             \n",
    "        split1=0 \n",
    "    else:                                              # calculation splitinfo of first child node\n",
    "        split1=((-1)*sum(val1)/(sum(val1)+sum(val2)))*ma.log(sum(val1)/(sum(val1)+sum(val2)),2) \n",
    "        \n",
    "    if sum(val2)/(sum(val1)+sum(val2))==0:                                                      \n",
    "        split2=0\n",
    "    else:                                              # calculation splitinfo of second child node\n",
    "        split2=((-1)*sum(val2)/(sum(val1)+sum(val2)))*ma.log(sum(val2)/(sum(val1)+sum(val2)),2)\n",
    "    split_info=split1+split2\n",
    "    try:\n",
    "        gain_ratio_=info_gain/split_info                 \n",
    "    except:\n",
    "        gain_ratio_=0\n",
    "  \n",
    "    return gain_ratio_"
   ]
  },
  {
   "cell_type": "markdown",
   "metadata": {},
   "source": [
    "# Gain Function"
   ]
  },
  {
   "cell_type": "code",
   "execution_count": 9,
   "metadata": {},
   "outputs": [],
   "source": [
    "def Gain(Data,y,f):     \n",
    "    \n",
    "    data=Data[f]            #data is the coloumn data of feature f\n",
    "   \n",
    "    \n",
    "    maxx=0                  #maxx will give max_gain ratio \n",
    "    minvalue=data.min()     #calculation of min and max value to run loop over all values of data\n",
    "    m=minvalue+0.1\n",
    "    maxvalue=data.max()\n",
    "    feat=0         # later feat will return this feature f in df function\n",
    "    mid=0          # at each time mid will store the value at which spliting is done by feature f\n",
    "    \n",
    "    \n",
    "    while(m<=maxvalue):    \n",
    "        val=[0,0,0]          #it will store number of 0`s , 1`s , 2`s of y on respective indexes 0,1,2\n",
    "        val1=[0,0,0]         #it will store number of 0`s , 1`s , 2`s of  split_1y on respective indexes 0,1,2\n",
    "        val2=[0,0,0]         #it will store number of 0`s , 1`s , 2`s of split_2y on respective indexes 0,1,2\n",
    "        \n",
    "        \n",
    "        split_1x=Data[data<m]          # it is split of x data whose values are less then m\n",
    "        split_1y=y[data<m]          # it is split of y data whose values are less then m\n",
    "        \n",
    "        \n",
    "        \n",
    "        \n",
    "        split_2x=Data[data>=m]       # it is split of x data whose values are greater then m\n",
    "        split_2y=y[data>=m]       # it is split of y data whose values are greater then m\n",
    "        \n",
    "        \n",
    "        total_elements=len(Data)       # gives total number of elements in x\n",
    "        val[0]=count_Setosa(y)          #countSetosa is function which returns number of setosa flowers defines at top\n",
    "        val[1]=count_Versicolor(y) \n",
    "        val[2]=total_elements-val[0]-val[1]           #val[2] have value of 3rd type of flowers how many they are\n",
    "        \n",
    "        total_elements=len(split_1x)                  #same as for 1st split\n",
    "        val1[0]=count_Setosa(split_1y)\n",
    "        val1[1]=count_Versicolor(split_1y) \n",
    "        val1[2]=total_elements-val1[0]-val1[1]\n",
    "        \n",
    "        total_elements=len(split_2x)                  # same for 2nd split\n",
    "        val2[0]=count_Setosa(split_2y)\n",
    "        val2[1]=count_Versicolor(split_2y) \n",
    "        val2[2]=total_elements-val2[0]-val2[1]\n",
    "       \n",
    "        if val1.count(0)==3 and val2.count(0)==3:    #to prevent getting split_info to 0 in gain ratio\n",
    "            continue\n",
    "        max_gain=Gain_ratio(val,val1,val2)           #gain_ratio fun will give u max gain ratio using all 3 list which have all data\n",
    "        if max_gain>=maxx:\n",
    "            maxx=max_gain\n",
    "            feat=f\n",
    "            mid=m\n",
    "        m+=0.1                                      #incrementing m by 0.1 so that at every stage we can get best gain_ratio\n",
    "    return maxx,feat,mid"
   ]
  },
  {
   "cell_type": "markdown",
   "metadata": {},
   "source": [
    "# Decision Tree Function"
   ]
  },
  {
   "cell_type": "code",
   "execution_count": 10,
   "metadata": {},
   "outputs": [
    {
     "name": "stdout",
     "output_type": "stream",
     "text": [
      "level  0\n",
      "count of setosa = 50\n",
      "count of versicolor = 50\n",
      "count of virginica = 50\n",
      "current entropy is = 1.584962500721156\n",
      "splitting on feature pw with gain ratio 0.9999999999999999\n",
      "level  1\n",
      "count of setosa = 50\n",
      "count of versicolor = 0\n",
      "count of virginica = 0\n",
      "current entropy is = 0.0\n",
      "Reached Leaf Node\n",
      "level  1\n",
      "count of setosa = 0\n",
      "count of versicolor = 50\n",
      "count of virginica = 50\n",
      "current entropy is = 1.0\n",
      "splitting on feature pw with gain ratio 0.6933647985912662\n",
      "level  2\n",
      "count of setosa = 0\n",
      "count of versicolor = 49\n",
      "count of virginica = 5\n",
      "current entropy is = 0.44506485705083865\n",
      "splitting on feature pl with gain ratio 0.6066178220203009\n",
      "level  3\n",
      "count of setosa = 0\n",
      "count of versicolor = 49\n",
      "count of virginica = 3\n",
      "current entropy is = 0.31821529768323314\n",
      "splitting on feature pl with gain ratio 0.2720453440631924\n",
      "level  4\n",
      "count of setosa = 0\n",
      "count of versicolor = 47\n",
      "count of virginica = 1\n",
      "current entropy is = 0.14609425012013633\n",
      "splitting on feature pw with gain ratio 1.0\n",
      "level  5\n",
      "count of setosa = 0\n",
      "count of versicolor = 47\n",
      "count of virginica = 0\n",
      "current entropy is = 0.0\n",
      "Reached Leaf Node\n",
      "level  5\n",
      "count of setosa = 0\n",
      "count of versicolor = 0\n",
      "count of virginica = 1\n",
      "current entropy is = 0.0\n",
      "Reached Leaf Node\n",
      "level  4\n",
      "count of setosa = 0\n",
      "count of versicolor = 2\n",
      "count of virginica = 2\n",
      "current entropy is = 1.0\n",
      "splitting on feature pw with gain ratio 1.0\n",
      "level  5\n",
      "count of setosa = 0\n",
      "count of versicolor = 0\n",
      "count of virginica = 2\n",
      "current entropy is = 0.0\n",
      "Reached Leaf Node\n",
      "level  5\n",
      "count of setosa = 0\n",
      "count of versicolor = 2\n",
      "count of virginica = 0\n",
      "current entropy is = 0.0\n",
      "Reached Leaf Node\n",
      "level  3\n",
      "count of setosa = 0\n",
      "count of versicolor = 0\n",
      "count of virginica = 2\n",
      "current entropy is = 0.0\n",
      "Reached Leaf Node\n",
      "level  2\n",
      "count of setosa = 0\n",
      "count of versicolor = 1\n",
      "count of virginica = 45\n",
      "current entropy is = 0.15109697051711368\n",
      "splitting on feature pl with gain ratio 0.2622302372762406\n",
      "level  3\n",
      "count of setosa = 0\n",
      "count of versicolor = 1\n",
      "count of virginica = 2\n",
      "current entropy is = 0.9182958340544896\n",
      "splitting on feature sw with gain ratio 1.0\n",
      "level  4\n",
      "count of setosa = 0\n",
      "count of versicolor = 0\n",
      "count of virginica = 2\n",
      "current entropy is = 0.0\n",
      "Reached Leaf Node\n",
      "level  4\n",
      "count of setosa = 0\n",
      "count of versicolor = 1\n",
      "count of virginica = 0\n",
      "current entropy is = 0.0\n",
      "Reached Leaf Node\n",
      "level  3\n",
      "count of setosa = 0\n",
      "count of versicolor = 0\n",
      "count of virginica = 43\n",
      "current entropy is = 0.0\n",
      "Reached Leaf Node\n"
     ]
    }
   ],
   "source": [
    "def decision_tree(Data,y,feature_list,Level):\n",
    "    val=[0,0,0]                          #list contains the number of flowers of each type \n",
    "    no_of_features_left=len(feature_list)\n",
    "    total_elements=len(Data)\n",
    "    no_of_setosa=count_Setosa(y)          #countSetosa is function to count number of setosa flowers in output\n",
    "    no_of_versicolor=count_Versicolor(y) \n",
    "    no_of_virginica=total_elements-no_of_setosa-no_of_versicolor\n",
    "    val[0]=no_of_setosa\n",
    "    val[1]=no_of_versicolor\n",
    "    val[2]=no_of_virginica\n",
    "  \n",
    "    print('level ',Level)\n",
    "    print('count of setosa =',no_of_setosa)\n",
    "    print('count of versicolor =',no_of_versicolor)\n",
    "    print('count of virginica =',no_of_virginica)\n",
    "    print('current entropy is =',entropy(val))\n",
    "    \n",
    "    if val.count(0)==2:                 #if val has only one type of flowers it will reach leaf node\n",
    "        print('Reached Leaf Node')\n",
    "        return\n",
    "    maxx_=0                   # maxx will store the maxx gain ratio\n",
    "    mid=0                     #mid is the value at which feature splits ang gives max gain ratio\n",
    "    feat=None\n",
    "    \n",
    "    for f in feature_list:\n",
    "        max_gain,final_feature,m=Gain(Data,y,f) # gain fun to get max gainratio # max_gain is maximum gain ratio by final_feature    m is mid\n",
    "        if maxx_<=max_gain:\n",
    "            maxx_=max_gain\n",
    "            feat=final_feature\n",
    "            mid=m\n",
    "        \n",
    "  \n",
    "    print('splitting on feature',feat,'with gain ratio',maxx_)         #feat is the feature at which split done\n",
    "    \n",
    "    new_1x=Data[Data[feat]<mid]     #spliting main data into two parts according to feat feature\n",
    "   \n",
    "    new_1y=y[Data[feat]<mid]     #spliting main output into two parts according to feat feature\n",
    "   \n",
    "    \n",
    "    new_2x=Data[Data[feat]>=mid]\n",
    "    \n",
    "    new_2y=y[Data[feat]>=mid]\n",
    "   \n",
    "   \n",
    "    features2=[Data for Data in feature_list]      # features will remain same bcz a feature can be used any number of times\n",
    "    decision_tree(new_1x,new_1y,features2,Level+1)    #calling dt again recursively\n",
    "    decision_tree(new_2x,new_2y,features2,Level+1)     #calling dt again recursively\n",
    "    \n",
    "    \n",
    "  \n",
    "\n",
    "    \n",
    "decision_tree(Data,y,feature_list,0)     #main function call"
   ]
  }
 ],
 "metadata": {
  "kernelspec": {
   "display_name": "Python 3",
   "language": "python",
   "name": "python3"
  },
  "language_info": {
   "codemirror_mode": {
    "name": "ipython",
    "version": 3
   },
   "file_extension": ".py",
   "mimetype": "text/x-python",
   "name": "python",
   "nbconvert_exporter": "python",
   "pygments_lexer": "ipython3",
   "version": "3.7.3"
  }
 },
 "nbformat": 4,
 "nbformat_minor": 2
}
